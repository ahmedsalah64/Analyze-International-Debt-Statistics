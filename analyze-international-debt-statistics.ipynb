{
 "cells": [
  {
   "cell_type": "markdown",
   "id": "c00102d3",
   "metadata": {
    "dc": {
     "key": "4"
    },
    "deletable": false,
    "papermill": {
     "duration": 0.00676,
     "end_time": "2023-01-04T01:43:05.742891",
     "exception": false,
     "start_time": "2023-01-04T01:43:05.736131",
     "status": "completed"
    },
    "run_control": {
     "frozen": true
    },
    "tags": [
     "context"
    ]
   },
   "source": [
    "## 1. The World Bank's international debt data\n",
    "<p>It's not that we humans only take debts to manage our necessities. A country may also take debt to manage its economy. For example, infrastructure spending is one costly ingredient required for a country's citizens to lead comfortable lives. <a href=\"https://www.worldbank.org\">The World Bank</a> is the organization that provides debt to countries.</p>\n",
    "<p>In this notebook, we are going to analyze international debt data collected by The World Bank. The dataset contains information about the amount of debt (in USD) owed by developing countries across several categories. We are going to find the answers to questions like: </p>\n",
    "<ul>\n",
    "<li>What is the total amount of debt that is owed by the countries listed in the dataset?</li>\n",
    "<li>Which country owns the maximum amount of debt and what does that amount look like?</li>\n",
    "<li>What is the average amount of debt owed by countries across different debt indicators?</li>\n",
    "</ul>\n",
    "<p><img src=\"https://assets.datacamp.com/production/project_754/img/image.jpg\" alt></p>\n",
    "<p>The first line of code connects us to the <code>international_debt</code> database where the table <code>international_debt</code> is residing. Let's first <code>SELECT</code> <em>all</em> of the columns from the <code>international_debt</code> table. Also, we'll limit the output to the first ten rows to keep the output clean.</p>"
   ]
  },
  {
   "cell_type": "code",
   "execution_count": 1,
   "id": "285cc55f",
   "metadata": {
    "execution": {
     "iopub.execute_input": "2023-01-04T01:43:05.757492Z",
     "iopub.status.busy": "2023-01-04T01:43:05.756432Z",
     "iopub.status.idle": "2023-01-04T01:43:05.876201Z",
     "shell.execute_reply": "2023-01-04T01:43:05.874728Z"
    },
    "papermill": {
     "duration": 0.130888,
     "end_time": "2023-01-04T01:43:05.879719",
     "exception": false,
     "start_time": "2023-01-04T01:43:05.748831",
     "status": "completed"
    },
    "tags": []
   },
   "outputs": [
    {
     "name": "stdout",
     "output_type": "stream",
     "text": [
      "The sql extension is already loaded. To reload it, use:\n",
      "  %reload_ext sql\n"
     ]
    },
    {
     "data": {
      "text/plain": [
       "'Connected: @international_debt.dp'"
      ]
     },
     "execution_count": 1,
     "metadata": {},
     "output_type": "execute_result"
    }
   ],
   "source": [
    "#prepare my environment\n",
    "import pandas as pd\n",
    "import sqlite3\n",
    "df = pd.read_csv('/kaggle/input/international-debt/international_debt.csv')\n",
    "cnn = sqlite3.connect('international_debt.dp')\n",
    "df.to_sql('international_debt', cnn)\n",
    "%load_ext sql\n",
    "%sql sqlite:///international_debt.dp"
   ]
  },
  {
   "cell_type": "code",
   "execution_count": 2,
   "id": "c57a28ee",
   "metadata": {
    "dc": {
     "key": "4"
    },
    "execution": {
     "iopub.execute_input": "2023-01-04T01:43:05.893443Z",
     "iopub.status.busy": "2023-01-04T01:43:05.892988Z",
     "iopub.status.idle": "2023-01-04T01:43:05.906460Z",
     "shell.execute_reply": "2023-01-04T01:43:05.904953Z"
    },
    "papermill": {
     "duration": 0.023672,
     "end_time": "2023-01-04T01:43:05.909374",
     "exception": false,
     "start_time": "2023-01-04T01:43:05.885702",
     "status": "completed"
    },
    "tags": [
     "sample_code"
    ]
   },
   "outputs": [
    {
     "name": "stdout",
     "output_type": "stream",
     "text": [
      " * sqlite:///international_debt.dp\n",
      "Done.\n"
     ]
    },
    {
     "data": {
      "text/html": [
       "<table>\n",
       "    <thead>\n",
       "        <tr>\n",
       "            <th>index</th>\n",
       "            <th>country_name</th>\n",
       "            <th>country_code</th>\n",
       "            <th>indicator_name</th>\n",
       "            <th>indicator_code</th>\n",
       "            <th>debt</th>\n",
       "        </tr>\n",
       "    </thead>\n",
       "    <tbody>\n",
       "        <tr>\n",
       "            <td>0</td>\n",
       "            <td>Afghanistan</td>\n",
       "            <td>AFG</td>\n",
       "            <td>Disbursements on external debt, long-term (DIS, current US$)</td>\n",
       "            <td>DT.DIS.DLXF.CD</td>\n",
       "            <td>72894453.7</td>\n",
       "        </tr>\n",
       "        <tr>\n",
       "            <td>1</td>\n",
       "            <td>Afghanistan</td>\n",
       "            <td>AFG</td>\n",
       "            <td>Interest payments on external debt, long-term (INT, current US$)</td>\n",
       "            <td>DT.INT.DLXF.CD</td>\n",
       "            <td>53239440.1</td>\n",
       "        </tr>\n",
       "        <tr>\n",
       "            <td>2</td>\n",
       "            <td>Afghanistan</td>\n",
       "            <td>AFG</td>\n",
       "            <td>PPG, bilateral (AMT, current US$)</td>\n",
       "            <td>DT.AMT.BLAT.CD</td>\n",
       "            <td>61739336.9</td>\n",
       "        </tr>\n",
       "        <tr>\n",
       "            <td>3</td>\n",
       "            <td>Afghanistan</td>\n",
       "            <td>AFG</td>\n",
       "            <td>PPG, bilateral (DIS, current US$)</td>\n",
       "            <td>DT.DIS.BLAT.CD</td>\n",
       "            <td>49114729.4</td>\n",
       "        </tr>\n",
       "        <tr>\n",
       "            <td>4</td>\n",
       "            <td>Afghanistan</td>\n",
       "            <td>AFG</td>\n",
       "            <td>PPG, bilateral (INT, current US$)</td>\n",
       "            <td>DT.INT.BLAT.CD</td>\n",
       "            <td>39903620.1</td>\n",
       "        </tr>\n",
       "        <tr>\n",
       "            <td>5</td>\n",
       "            <td>Afghanistan</td>\n",
       "            <td>AFG</td>\n",
       "            <td>PPG, multilateral (AMT, current US$)</td>\n",
       "            <td>DT.AMT.MLAT.CD</td>\n",
       "            <td>39107845.0</td>\n",
       "        </tr>\n",
       "        <tr>\n",
       "            <td>6</td>\n",
       "            <td>Afghanistan</td>\n",
       "            <td>AFG</td>\n",
       "            <td>PPG, multilateral (DIS, current US$)</td>\n",
       "            <td>DT.DIS.MLAT.CD</td>\n",
       "            <td>23779724.3</td>\n",
       "        </tr>\n",
       "        <tr>\n",
       "            <td>7</td>\n",
       "            <td>Afghanistan</td>\n",
       "            <td>AFG</td>\n",
       "            <td>PPG, multilateral (INT, current US$)</td>\n",
       "            <td>DT.INT.MLAT.CD</td>\n",
       "            <td>13335820.0</td>\n",
       "        </tr>\n",
       "        <tr>\n",
       "            <td>8</td>\n",
       "            <td>Afghanistan</td>\n",
       "            <td>AFG</td>\n",
       "            <td>PPG, official creditors (AMT, current US$)</td>\n",
       "            <td>DT.AMT.OFFT.CD</td>\n",
       "            <td>100847181.9</td>\n",
       "        </tr>\n",
       "        <tr>\n",
       "            <td>9</td>\n",
       "            <td>Afghanistan</td>\n",
       "            <td>AFG</td>\n",
       "            <td>PPG, official creditors (DIS, current US$)</td>\n",
       "            <td>DT.DIS.OFFT.CD</td>\n",
       "            <td>72894453.7</td>\n",
       "        </tr>\n",
       "    </tbody>\n",
       "</table>"
      ],
      "text/plain": [
       "[(0, 'Afghanistan', 'AFG', 'Disbursements on external debt, long-term (DIS, current US$)', 'DT.DIS.DLXF.CD', 72894453.7),\n",
       " (1, 'Afghanistan', 'AFG', 'Interest payments on external debt, long-term (INT, current US$)', 'DT.INT.DLXF.CD', 53239440.1),\n",
       " (2, 'Afghanistan', 'AFG', 'PPG, bilateral (AMT, current US$)', 'DT.AMT.BLAT.CD', 61739336.9),\n",
       " (3, 'Afghanistan', 'AFG', 'PPG, bilateral (DIS, current US$)', 'DT.DIS.BLAT.CD', 49114729.4),\n",
       " (4, 'Afghanistan', 'AFG', 'PPG, bilateral (INT, current US$)', 'DT.INT.BLAT.CD', 39903620.1),\n",
       " (5, 'Afghanistan', 'AFG', 'PPG, multilateral (AMT, current US$)', 'DT.AMT.MLAT.CD', 39107845.0),\n",
       " (6, 'Afghanistan', 'AFG', 'PPG, multilateral (DIS, current US$)', 'DT.DIS.MLAT.CD', 23779724.3),\n",
       " (7, 'Afghanistan', 'AFG', 'PPG, multilateral (INT, current US$)', 'DT.INT.MLAT.CD', 13335820.0),\n",
       " (8, 'Afghanistan', 'AFG', 'PPG, official creditors (AMT, current US$)', 'DT.AMT.OFFT.CD', 100847181.9),\n",
       " (9, 'Afghanistan', 'AFG', 'PPG, official creditors (DIS, current US$)', 'DT.DIS.OFFT.CD', 72894453.7)]"
      ]
     },
     "execution_count": 2,
     "metadata": {},
     "output_type": "execute_result"
    }
   ],
   "source": [
    "%%sql\n",
    "\n",
    "SELECT *\n",
    "FROM international_debt\n",
    "LIMIT 10;\n",
    "    "
   ]
  },
  {
   "cell_type": "markdown",
   "id": "20f87445",
   "metadata": {
    "dc": {
     "key": "12"
    },
    "deletable": false,
    "papermill": {
     "duration": 0.005859,
     "end_time": "2023-01-04T01:43:05.921613",
     "exception": false,
     "start_time": "2023-01-04T01:43:05.915754",
     "status": "completed"
    },
    "run_control": {
     "frozen": true
    },
    "tags": [
     "context"
    ]
   },
   "source": [
    "## 2. Finding the number of distinct countries\n",
    "<p>From the first ten rows, we can see the amount of debt owed by <em>Afghanistan</em> in the different debt indicators. But we do not know the number of different countries we have on the table. There are repetitions in the country names because a country is most likely to have debt in more than one debt indicator. </p>\n",
    "<p>Without a count of unique countries, we will not be able to perform our statistical analyses holistically. In this section, we are going to extract the number of unique countries present in the table. </p>"
   ]
  },
  {
   "cell_type": "code",
   "execution_count": 3,
   "id": "13acd96e",
   "metadata": {
    "dc": {
     "key": "12"
    },
    "execution": {
     "iopub.execute_input": "2023-01-04T01:43:05.935874Z",
     "iopub.status.busy": "2023-01-04T01:43:05.934991Z",
     "iopub.status.idle": "2023-01-04T01:43:05.945309Z",
     "shell.execute_reply": "2023-01-04T01:43:05.943400Z"
    },
    "papermill": {
     "duration": 0.020414,
     "end_time": "2023-01-04T01:43:05.948133",
     "exception": false,
     "start_time": "2023-01-04T01:43:05.927719",
     "status": "completed"
    },
    "scrolled": true,
    "tags": [
     "sample_code"
    ]
   },
   "outputs": [
    {
     "name": "stdout",
     "output_type": "stream",
     "text": [
      " * sqlite:///international_debt.dp\n",
      "Done.\n"
     ]
    },
    {
     "data": {
      "text/html": [
       "<table>\n",
       "    <thead>\n",
       "        <tr>\n",
       "            <th>total_distinct_countries</th>\n",
       "        </tr>\n",
       "    </thead>\n",
       "    <tbody>\n",
       "        <tr>\n",
       "            <td>124</td>\n",
       "        </tr>\n",
       "    </tbody>\n",
       "</table>"
      ],
      "text/plain": [
       "[(124,)]"
      ]
     },
     "execution_count": 3,
     "metadata": {},
     "output_type": "execute_result"
    }
   ],
   "source": [
    "%%sql\n",
    "SELECT \n",
    "    COUNT(DISTINCT country_name) AS total_distinct_countries\n",
    "FROM international_debt;"
   ]
  },
  {
   "cell_type": "markdown",
   "id": "4b95b2ff",
   "metadata": {
    "dc": {
     "key": "20"
    },
    "deletable": false,
    "papermill": {
     "duration": 0.007095,
     "end_time": "2023-01-04T01:43:05.961720",
     "exception": false,
     "start_time": "2023-01-04T01:43:05.954625",
     "status": "completed"
    },
    "run_control": {
     "frozen": true
    },
    "tags": [
     "context"
    ]
   },
   "source": [
    "## 3. Finding out the distinct debt indicators\n",
    "<p>We can see there are a total of 124 countries present on the table. As we saw in the first section, there is a column called <code>indicator_name</code> that briefly specifies the purpose of taking the debt. Just beside that column, there is another column called <code>indicator_code</code> which symbolizes the category of these debts. Knowing about these various debt indicators will help us to understand the areas in which a country can possibly be indebted to. </p>"
   ]
  },
  {
   "cell_type": "code",
   "execution_count": 4,
   "id": "88d05aab",
   "metadata": {
    "dc": {
     "key": "20"
    },
    "execution": {
     "iopub.execute_input": "2023-01-04T01:43:05.976979Z",
     "iopub.status.busy": "2023-01-04T01:43:05.975621Z",
     "iopub.status.idle": "2023-01-04T01:43:05.989600Z",
     "shell.execute_reply": "2023-01-04T01:43:05.987794Z"
    },
    "papermill": {
     "duration": 0.02433,
     "end_time": "2023-01-04T01:43:05.992363",
     "exception": false,
     "start_time": "2023-01-04T01:43:05.968033",
     "status": "completed"
    },
    "tags": [
     "sample_code"
    ]
   },
   "outputs": [
    {
     "name": "stdout",
     "output_type": "stream",
     "text": [
      " * sqlite:///international_debt.dp\n",
      "Done.\n"
     ]
    },
    {
     "data": {
      "text/html": [
       "<table>\n",
       "    <thead>\n",
       "        <tr>\n",
       "            <th>distinct_debt_indicators</th>\n",
       "        </tr>\n",
       "    </thead>\n",
       "    <tbody>\n",
       "        <tr>\n",
       "            <td>DT.AMT.BLAT.CD</td>\n",
       "        </tr>\n",
       "        <tr>\n",
       "            <td>DT.AMT.DLXF.CD</td>\n",
       "        </tr>\n",
       "        <tr>\n",
       "            <td>DT.AMT.DPNG.CD</td>\n",
       "        </tr>\n",
       "        <tr>\n",
       "            <td>DT.AMT.MLAT.CD</td>\n",
       "        </tr>\n",
       "        <tr>\n",
       "            <td>DT.AMT.OFFT.CD</td>\n",
       "        </tr>\n",
       "        <tr>\n",
       "            <td>DT.AMT.PBND.CD</td>\n",
       "        </tr>\n",
       "        <tr>\n",
       "            <td>DT.AMT.PCBK.CD</td>\n",
       "        </tr>\n",
       "        <tr>\n",
       "            <td>DT.AMT.PROP.CD</td>\n",
       "        </tr>\n",
       "        <tr>\n",
       "            <td>DT.AMT.PRVT.CD</td>\n",
       "        </tr>\n",
       "        <tr>\n",
       "            <td>DT.DIS.BLAT.CD</td>\n",
       "        </tr>\n",
       "        <tr>\n",
       "            <td>DT.DIS.DLXF.CD</td>\n",
       "        </tr>\n",
       "        <tr>\n",
       "            <td>DT.DIS.MLAT.CD</td>\n",
       "        </tr>\n",
       "        <tr>\n",
       "            <td>DT.DIS.OFFT.CD</td>\n",
       "        </tr>\n",
       "        <tr>\n",
       "            <td>DT.DIS.PCBK.CD</td>\n",
       "        </tr>\n",
       "        <tr>\n",
       "            <td>DT.DIS.PROP.CD</td>\n",
       "        </tr>\n",
       "        <tr>\n",
       "            <td>DT.DIS.PRVT.CD</td>\n",
       "        </tr>\n",
       "        <tr>\n",
       "            <td>DT.INT.BLAT.CD</td>\n",
       "        </tr>\n",
       "        <tr>\n",
       "            <td>DT.INT.DLXF.CD</td>\n",
       "        </tr>\n",
       "        <tr>\n",
       "            <td>DT.INT.DPNG.CD</td>\n",
       "        </tr>\n",
       "        <tr>\n",
       "            <td>DT.INT.MLAT.CD</td>\n",
       "        </tr>\n",
       "        <tr>\n",
       "            <td>DT.INT.OFFT.CD</td>\n",
       "        </tr>\n",
       "        <tr>\n",
       "            <td>DT.INT.PBND.CD</td>\n",
       "        </tr>\n",
       "        <tr>\n",
       "            <td>DT.INT.PCBK.CD</td>\n",
       "        </tr>\n",
       "        <tr>\n",
       "            <td>DT.INT.PROP.CD</td>\n",
       "        </tr>\n",
       "        <tr>\n",
       "            <td>DT.INT.PRVT.CD</td>\n",
       "        </tr>\n",
       "    </tbody>\n",
       "</table>"
      ],
      "text/plain": [
       "[('DT.AMT.BLAT.CD',),\n",
       " ('DT.AMT.DLXF.CD',),\n",
       " ('DT.AMT.DPNG.CD',),\n",
       " ('DT.AMT.MLAT.CD',),\n",
       " ('DT.AMT.OFFT.CD',),\n",
       " ('DT.AMT.PBND.CD',),\n",
       " ('DT.AMT.PCBK.CD',),\n",
       " ('DT.AMT.PROP.CD',),\n",
       " ('DT.AMT.PRVT.CD',),\n",
       " ('DT.DIS.BLAT.CD',),\n",
       " ('DT.DIS.DLXF.CD',),\n",
       " ('DT.DIS.MLAT.CD',),\n",
       " ('DT.DIS.OFFT.CD',),\n",
       " ('DT.DIS.PCBK.CD',),\n",
       " ('DT.DIS.PROP.CD',),\n",
       " ('DT.DIS.PRVT.CD',),\n",
       " ('DT.INT.BLAT.CD',),\n",
       " ('DT.INT.DLXF.CD',),\n",
       " ('DT.INT.DPNG.CD',),\n",
       " ('DT.INT.MLAT.CD',),\n",
       " ('DT.INT.OFFT.CD',),\n",
       " ('DT.INT.PBND.CD',),\n",
       " ('DT.INT.PCBK.CD',),\n",
       " ('DT.INT.PROP.CD',),\n",
       " ('DT.INT.PRVT.CD',)]"
      ]
     },
     "execution_count": 4,
     "metadata": {},
     "output_type": "execute_result"
    }
   ],
   "source": [
    "%%sql\n",
    "SELECT DISTINCT indicator_code AS distinct_debt_indicators\n",
    "FROM international_debt\n",
    "ORDER BY distinct_debt_indicators\n"
   ]
  },
  {
   "cell_type": "markdown",
   "id": "9bf2b5b5",
   "metadata": {
    "dc": {
     "key": "28"
    },
    "deletable": false,
    "papermill": {
     "duration": 0.006361,
     "end_time": "2023-01-04T01:43:06.005568",
     "exception": false,
     "start_time": "2023-01-04T01:43:05.999207",
     "status": "completed"
    },
    "run_control": {
     "frozen": true
    },
    "tags": [
     "context"
    ]
   },
   "source": [
    "## 4. Totaling the amount of debt owed by the countries\n",
    "<p>As mentioned earlier, the financial debt of a particular country represents its economic state. But if we were to project this on an overall global scale, how will we approach it?</p>\n",
    "<p>Let's switch gears from the debt indicators now and find out the total amount of debt (in USD) that is owed by the different countries. This will give us a sense of how the overall economy of the entire world is holding up.</p>"
   ]
  },
  {
   "cell_type": "code",
   "execution_count": 5,
   "id": "511a1fc7",
   "metadata": {
    "dc": {
     "key": "28"
    },
    "execution": {
     "iopub.execute_input": "2023-01-04T01:43:06.022170Z",
     "iopub.status.busy": "2023-01-04T01:43:06.021762Z",
     "iopub.status.idle": "2023-01-04T01:43:06.033002Z",
     "shell.execute_reply": "2023-01-04T01:43:06.032063Z"
    },
    "papermill": {
     "duration": 0.025349,
     "end_time": "2023-01-04T01:43:06.039092",
     "exception": false,
     "start_time": "2023-01-04T01:43:06.013743",
     "status": "completed"
    },
    "tags": [
     "sample_code"
    ]
   },
   "outputs": [
    {
     "name": "stdout",
     "output_type": "stream",
     "text": [
      " * sqlite:///international_debt.dp\n",
      "Done.\n"
     ]
    },
    {
     "data": {
      "text/html": [
       "<table>\n",
       "    <thead>\n",
       "        <tr>\n",
       "            <th>total_debt</th>\n",
       "        </tr>\n",
       "    </thead>\n",
       "    <tbody>\n",
       "        <tr>\n",
       "            <td>3079734.49</td>\n",
       "        </tr>\n",
       "    </tbody>\n",
       "</table>"
      ],
      "text/plain": [
       "[(3079734.49,)]"
      ]
     },
     "execution_count": 5,
     "metadata": {},
     "output_type": "execute_result"
    }
   ],
   "source": [
    "%%sql\n",
    "SELECT \n",
    "    ROUND(SUM(debt)/1000000, 2) AS total_debt\n",
    "FROM international_debt; "
   ]
  },
  {
   "cell_type": "markdown",
   "id": "d3213de9",
   "metadata": {
    "dc": {
     "key": "36"
    },
    "deletable": false,
    "papermill": {
     "duration": 0.006601,
     "end_time": "2023-01-04T01:43:06.053159",
     "exception": false,
     "start_time": "2023-01-04T01:43:06.046558",
     "status": "completed"
    },
    "run_control": {
     "frozen": true
    },
    "tags": [
     "context"
    ]
   },
   "source": [
    "## 5. Country with the highest debt\n",
    "<p>\"Human beings cannot comprehend very large or very small numbers. It would be useful for us to acknowledge that fact.\" - <a href=\"https://en.wikipedia.org/wiki/Daniel_Kahneman\">Daniel Kahneman</a>. That is more than <em>3 million <strong>million</strong></em> USD, an amount which is really hard for us to fathom. </p>\n",
    "<p>Now that we have the exact total of the amounts of debt owed by several countries, let's now find out the country that owns the highest amount of debt along with the amount. <strong>Note</strong> that this debt is the sum of different debts owed by a country across several categories. This will help to understand more about the country in terms of its socio-economic scenarios. We can also find out the category in which the country owns its highest debt. But we will leave that for now. </p>"
   ]
  },
  {
   "cell_type": "code",
   "execution_count": 6,
   "id": "60abeaca",
   "metadata": {
    "dc": {
     "key": "36"
    },
    "execution": {
     "iopub.execute_input": "2023-01-04T01:43:06.068996Z",
     "iopub.status.busy": "2023-01-04T01:43:06.068599Z",
     "iopub.status.idle": "2023-01-04T01:43:06.080411Z",
     "shell.execute_reply": "2023-01-04T01:43:06.079144Z"
    },
    "papermill": {
     "duration": 0.022374,
     "end_time": "2023-01-04T01:43:06.082845",
     "exception": false,
     "start_time": "2023-01-04T01:43:06.060471",
     "status": "completed"
    },
    "tags": [
     "sample_code"
    ]
   },
   "outputs": [
    {
     "name": "stdout",
     "output_type": "stream",
     "text": [
      " * sqlite:///international_debt.dp\n",
      "Done.\n"
     ]
    },
    {
     "data": {
      "text/html": [
       "<table>\n",
       "    <thead>\n",
       "        <tr>\n",
       "            <th>country_name</th>\n",
       "            <th>total_debt</th>\n",
       "        </tr>\n",
       "    </thead>\n",
       "    <tbody>\n",
       "        <tr>\n",
       "            <td>China</td>\n",
       "            <td>285793494734.2</td>\n",
       "        </tr>\n",
       "    </tbody>\n",
       "</table>"
      ],
      "text/plain": [
       "[('China', 285793494734.2)]"
      ]
     },
     "execution_count": 6,
     "metadata": {},
     "output_type": "execute_result"
    }
   ],
   "source": [
    "%%sql\n",
    "SELECT \n",
    "    country_name, \n",
    "    SUM(debt) AS total_debt\n",
    "FROM international_debt\n",
    "GROUP BY country_name\n",
    "ORDER BY total_debt DESC\n",
    "LIMIT 1;"
   ]
  },
  {
   "cell_type": "markdown",
   "id": "623a245c",
   "metadata": {
    "dc": {
     "key": "44"
    },
    "deletable": false,
    "papermill": {
     "duration": 0.007335,
     "end_time": "2023-01-04T01:43:06.097389",
     "exception": false,
     "start_time": "2023-01-04T01:43:06.090054",
     "status": "completed"
    },
    "run_control": {
     "frozen": true
    },
    "tags": [
     "context"
    ]
   },
   "source": [
    "## 6. Average amount of debt across indicators\n",
    "<p>So, it was <em>China</em>. A more in-depth breakdown of China's debts can be found <a href=\"https://datatopics.worldbank.org/debt/ids/country/CHN\">here</a>. </p>\n",
    "<p>We now have a brief overview of the dataset and a few of its summary statistics. We already have an idea of the different debt indicators in which the countries owe their debts. We can dig even further to find out on an average how much debt a country owes? This will give us a better sense of the distribution of the amount of debt across different indicators.</p>"
   ]
  },
  {
   "cell_type": "code",
   "execution_count": 7,
   "id": "b8d9d57f",
   "metadata": {
    "dc": {
     "key": "44"
    },
    "execution": {
     "iopub.execute_input": "2023-01-04T01:43:06.113716Z",
     "iopub.status.busy": "2023-01-04T01:43:06.113242Z",
     "iopub.status.idle": "2023-01-04T01:43:06.126377Z",
     "shell.execute_reply": "2023-01-04T01:43:06.124859Z"
    },
    "papermill": {
     "duration": 0.024293,
     "end_time": "2023-01-04T01:43:06.129003",
     "exception": false,
     "start_time": "2023-01-04T01:43:06.104710",
     "status": "completed"
    },
    "tags": [
     "sample_code"
    ]
   },
   "outputs": [
    {
     "name": "stdout",
     "output_type": "stream",
     "text": [
      " * sqlite:///international_debt.dp\n",
      "Done.\n"
     ]
    },
    {
     "data": {
      "text/html": [
       "<table>\n",
       "    <thead>\n",
       "        <tr>\n",
       "            <th>debt_indicator</th>\n",
       "            <th>indicator_name</th>\n",
       "            <th>average_debt</th>\n",
       "        </tr>\n",
       "    </thead>\n",
       "    <tbody>\n",
       "        <tr>\n",
       "            <td>DT.AMT.DLXF.CD</td>\n",
       "            <td>Principal repayments on external debt, long-term (AMT, current US$)</td>\n",
       "            <td>5904868401.499195</td>\n",
       "        </tr>\n",
       "        <tr>\n",
       "            <td>DT.AMT.DPNG.CD</td>\n",
       "            <td>Principal repayments on external debt, private nonguaranteed (PNG) (AMT, current US$)</td>\n",
       "            <td>5161194333.812659</td>\n",
       "        </tr>\n",
       "        <tr>\n",
       "            <td>DT.DIS.DLXF.CD</td>\n",
       "            <td>Disbursements on external debt, long-term (DIS, current US$)</td>\n",
       "            <td>2152041216.8902435</td>\n",
       "        </tr>\n",
       "        <tr>\n",
       "            <td>DT.DIS.OFFT.CD</td>\n",
       "            <td>PPG, official creditors (DIS, current US$)</td>\n",
       "            <td>1958983452.8598351</td>\n",
       "        </tr>\n",
       "        <tr>\n",
       "            <td>DT.AMT.PRVT.CD</td>\n",
       "            <td>PPG, private creditors (AMT, current US$)</td>\n",
       "            <td>1803694101.963265</td>\n",
       "        </tr>\n",
       "        <tr>\n",
       "            <td>DT.INT.DLXF.CD</td>\n",
       "            <td>Interest payments on external debt, long-term (INT, current US$)</td>\n",
       "            <td>1644024067.6508067</td>\n",
       "        </tr>\n",
       "        <tr>\n",
       "            <td>DT.DIS.BLAT.CD</td>\n",
       "            <td>PPG, bilateral (DIS, current US$)</td>\n",
       "            <td>1223139290.39823</td>\n",
       "        </tr>\n",
       "        <tr>\n",
       "            <td>DT.INT.DPNG.CD</td>\n",
       "            <td>Interest payments on external debt, private nonguaranteed (PNG) (INT, current US$)</td>\n",
       "            <td>1220410844.4215188</td>\n",
       "        </tr>\n",
       "        <tr>\n",
       "            <td>DT.AMT.OFFT.CD</td>\n",
       "            <td>PPG, official creditors (AMT, current US$)</td>\n",
       "            <td>1191187963.083064</td>\n",
       "        </tr>\n",
       "        <tr>\n",
       "            <td>DT.AMT.PBND.CD</td>\n",
       "            <td>PPG, bonds (AMT, current US$)</td>\n",
       "            <td>1082623947.6536236</td>\n",
       "        </tr>\n",
       "    </tbody>\n",
       "</table>"
      ],
      "text/plain": [
       "[('DT.AMT.DLXF.CD', 'Principal repayments on external debt, long-term (AMT, current US$)', 5904868401.499195),\n",
       " ('DT.AMT.DPNG.CD', 'Principal repayments on external debt, private nonguaranteed (PNG) (AMT, current US$)', 5161194333.812659),\n",
       " ('DT.DIS.DLXF.CD', 'Disbursements on external debt, long-term (DIS, current US$)', 2152041216.8902435),\n",
       " ('DT.DIS.OFFT.CD', 'PPG, official creditors (DIS, current US$)', 1958983452.8598351),\n",
       " ('DT.AMT.PRVT.CD', 'PPG, private creditors (AMT, current US$)', 1803694101.963265),\n",
       " ('DT.INT.DLXF.CD', 'Interest payments on external debt, long-term (INT, current US$)', 1644024067.6508067),\n",
       " ('DT.DIS.BLAT.CD', 'PPG, bilateral (DIS, current US$)', 1223139290.39823),\n",
       " ('DT.INT.DPNG.CD', 'Interest payments on external debt, private nonguaranteed (PNG) (INT, current US$)', 1220410844.4215188),\n",
       " ('DT.AMT.OFFT.CD', 'PPG, official creditors (AMT, current US$)', 1191187963.083064),\n",
       " ('DT.AMT.PBND.CD', 'PPG, bonds (AMT, current US$)', 1082623947.6536236)]"
      ]
     },
     "execution_count": 7,
     "metadata": {},
     "output_type": "execute_result"
    }
   ],
   "source": [
    "%%sql\n",
    "SELECT \n",
    "    indicator_code AS debt_indicator,\n",
    "    indicator_name,\n",
    "    AVG(debt) AS average_debt\n",
    "FROM international_debt\n",
    "GROUP BY debt_indicator, indicator_name\n",
    "ORDER BY average_debt DESC\n",
    "LIMIT 10;"
   ]
  },
  {
   "cell_type": "markdown",
   "id": "e12d5bd3",
   "metadata": {
    "dc": {
     "key": "52"
    },
    "deletable": false,
    "papermill": {
     "duration": 0.007079,
     "end_time": "2023-01-04T01:43:06.143838",
     "exception": false,
     "start_time": "2023-01-04T01:43:06.136759",
     "status": "completed"
    },
    "run_control": {
     "frozen": true
    },
    "tags": [
     "context"
    ]
   },
   "source": [
    "## 7. The highest amount of principal repayments\n",
    "<p>We can see that the indicator <code>DT.AMT.DLXF.CD</code> tops the chart of average debt. This category includes repayment of long term debts. Countries take on long-term debt to acquire immediate capital. More information about this category can be found <a href=\"https://datacatalog.worldbank.org/principal-repayments-external-debt-long-term-amt-current-us-0\">here</a>. </p>\n",
    "<p>An interesting observation in the above finding is that there is a huge difference in the amounts of the indicators after the second one. This indicates that the first two indicators might be the most severe categories in which the countries owe their debts.</p>\n",
    "<p>We can investigate this a bit more so as to find out which country owes the highest amount of debt in the category of long term debts (<code>DT.AMT.DLXF.CD</code>). Since not all the countries suffer from the same kind of economic disturbances, this finding will allow us to understand that particular country's economic condition a bit more specifically. </p>"
   ]
  },
  {
   "cell_type": "code",
   "execution_count": 8,
   "id": "e59ab711",
   "metadata": {
    "dc": {
     "key": "52"
    },
    "execution": {
     "iopub.execute_input": "2023-01-04T01:43:06.161913Z",
     "iopub.status.busy": "2023-01-04T01:43:06.161454Z",
     "iopub.status.idle": "2023-01-04T01:43:06.173993Z",
     "shell.execute_reply": "2023-01-04T01:43:06.172291Z"
    },
    "papermill": {
     "duration": 0.024944,
     "end_time": "2023-01-04T01:43:06.177362",
     "exception": false,
     "start_time": "2023-01-04T01:43:06.152418",
     "status": "completed"
    },
    "tags": [
     "sample_code"
    ]
   },
   "outputs": [
    {
     "name": "stdout",
     "output_type": "stream",
     "text": [
      " * sqlite:///international_debt.dp\n",
      "Done.\n"
     ]
    },
    {
     "data": {
      "text/html": [
       "<table>\n",
       "    <thead>\n",
       "        <tr>\n",
       "            <th>country_name</th>\n",
       "            <th>indicator_name</th>\n",
       "        </tr>\n",
       "    </thead>\n",
       "    <tbody>\n",
       "        <tr>\n",
       "            <td>China</td>\n",
       "            <td>Principal repayments on external debt, long-term (AMT, current US$)</td>\n",
       "        </tr>\n",
       "    </tbody>\n",
       "</table>"
      ],
      "text/plain": [
       "[('China', 'Principal repayments on external debt, long-term (AMT, current US$)')]"
      ]
     },
     "execution_count": 8,
     "metadata": {},
     "output_type": "execute_result"
    }
   ],
   "source": [
    "%%sql\n",
    "SELECT \n",
    "    country_name, \n",
    "    indicator_name\n",
    "FROM international_debt\n",
    "WHERE debt = (SELECT \n",
    "                  MAX(debt)\n",
    "              FROM international_debt\n",
    "              WHERE indicator_code='DT.AMT.DLXF.CD');"
   ]
  },
  {
   "cell_type": "markdown",
   "id": "384f595e",
   "metadata": {
    "dc": {
     "key": "60"
    },
    "deletable": false,
    "papermill": {
     "duration": 0.007141,
     "end_time": "2023-01-04T01:43:06.192243",
     "exception": false,
     "start_time": "2023-01-04T01:43:06.185102",
     "status": "completed"
    },
    "run_control": {
     "frozen": true
    },
    "tags": [
     "context"
    ]
   },
   "source": [
    "## 8. The most common debt indicator\n",
    "<p>China has the highest amount of debt in the long-term debt (<code>DT.AMT.DLXF.CD</code>) category. This is verified by <a href=\"https://data.worldbank.org/indicator/DT.AMT.DLXF.CD?end=2018&most_recent_value_desc=true\">The World Bank</a>. It is often a good idea to verify our analyses like this since it validates that our investigations are correct. </p>\n",
    "<p>We saw that long-term debt is the topmost category when it comes to the average amount of debt. But is it the most common indicator in which the countries owe their debt? Let's find that out. </p>"
   ]
  },
  {
   "cell_type": "code",
   "execution_count": 9,
   "id": "d5090330",
   "metadata": {
    "dc": {
     "key": "60"
    },
    "execution": {
     "iopub.execute_input": "2023-01-04T01:43:06.209127Z",
     "iopub.status.busy": "2023-01-04T01:43:06.208739Z",
     "iopub.status.idle": "2023-01-04T01:43:06.221091Z",
     "shell.execute_reply": "2023-01-04T01:43:06.219599Z"
    },
    "papermill": {
     "duration": 0.023767,
     "end_time": "2023-01-04T01:43:06.223597",
     "exception": false,
     "start_time": "2023-01-04T01:43:06.199830",
     "status": "completed"
    },
    "tags": [
     "sample_code"
    ]
   },
   "outputs": [
    {
     "name": "stdout",
     "output_type": "stream",
     "text": [
      " * sqlite:///international_debt.dp\n",
      "Done.\n"
     ]
    },
    {
     "data": {
      "text/html": [
       "<table>\n",
       "    <thead>\n",
       "        <tr>\n",
       "            <th>indicator_code</th>\n",
       "            <th>indicator_count</th>\n",
       "        </tr>\n",
       "    </thead>\n",
       "    <tbody>\n",
       "        <tr>\n",
       "            <td>DT.INT.OFFT.CD</td>\n",
       "            <td>124</td>\n",
       "        </tr>\n",
       "        <tr>\n",
       "            <td>DT.INT.MLAT.CD</td>\n",
       "            <td>124</td>\n",
       "        </tr>\n",
       "        <tr>\n",
       "            <td>DT.INT.DLXF.CD</td>\n",
       "            <td>124</td>\n",
       "        </tr>\n",
       "        <tr>\n",
       "            <td>DT.AMT.OFFT.CD</td>\n",
       "            <td>124</td>\n",
       "        </tr>\n",
       "        <tr>\n",
       "            <td>DT.AMT.MLAT.CD</td>\n",
       "            <td>124</td>\n",
       "        </tr>\n",
       "        <tr>\n",
       "            <td>DT.AMT.DLXF.CD</td>\n",
       "            <td>124</td>\n",
       "        </tr>\n",
       "        <tr>\n",
       "            <td>DT.DIS.DLXF.CD</td>\n",
       "            <td>123</td>\n",
       "        </tr>\n",
       "        <tr>\n",
       "            <td>DT.INT.BLAT.CD</td>\n",
       "            <td>122</td>\n",
       "        </tr>\n",
       "        <tr>\n",
       "            <td>DT.DIS.OFFT.CD</td>\n",
       "            <td>122</td>\n",
       "        </tr>\n",
       "        <tr>\n",
       "            <td>DT.AMT.BLAT.CD</td>\n",
       "            <td>122</td>\n",
       "        </tr>\n",
       "        <tr>\n",
       "            <td>DT.DIS.MLAT.CD</td>\n",
       "            <td>120</td>\n",
       "        </tr>\n",
       "        <tr>\n",
       "            <td>DT.DIS.BLAT.CD</td>\n",
       "            <td>113</td>\n",
       "        </tr>\n",
       "        <tr>\n",
       "            <td>DT.INT.PRVT.CD</td>\n",
       "            <td>98</td>\n",
       "        </tr>\n",
       "        <tr>\n",
       "            <td>DT.AMT.PRVT.CD</td>\n",
       "            <td>98</td>\n",
       "        </tr>\n",
       "        <tr>\n",
       "            <td>DT.INT.PCBK.CD</td>\n",
       "            <td>84</td>\n",
       "        </tr>\n",
       "        <tr>\n",
       "            <td>DT.AMT.PCBK.CD</td>\n",
       "            <td>84</td>\n",
       "        </tr>\n",
       "        <tr>\n",
       "            <td>DT.INT.DPNG.CD</td>\n",
       "            <td>79</td>\n",
       "        </tr>\n",
       "        <tr>\n",
       "            <td>DT.AMT.DPNG.CD</td>\n",
       "            <td>79</td>\n",
       "        </tr>\n",
       "        <tr>\n",
       "            <td>DT.INT.PBND.CD</td>\n",
       "            <td>69</td>\n",
       "        </tr>\n",
       "        <tr>\n",
       "            <td>DT.AMT.PBND.CD</td>\n",
       "            <td>69</td>\n",
       "        </tr>\n",
       "    </tbody>\n",
       "</table>"
      ],
      "text/plain": [
       "[('DT.INT.OFFT.CD', 124),\n",
       " ('DT.INT.MLAT.CD', 124),\n",
       " ('DT.INT.DLXF.CD', 124),\n",
       " ('DT.AMT.OFFT.CD', 124),\n",
       " ('DT.AMT.MLAT.CD', 124),\n",
       " ('DT.AMT.DLXF.CD', 124),\n",
       " ('DT.DIS.DLXF.CD', 123),\n",
       " ('DT.INT.BLAT.CD', 122),\n",
       " ('DT.DIS.OFFT.CD', 122),\n",
       " ('DT.AMT.BLAT.CD', 122),\n",
       " ('DT.DIS.MLAT.CD', 120),\n",
       " ('DT.DIS.BLAT.CD', 113),\n",
       " ('DT.INT.PRVT.CD', 98),\n",
       " ('DT.AMT.PRVT.CD', 98),\n",
       " ('DT.INT.PCBK.CD', 84),\n",
       " ('DT.AMT.PCBK.CD', 84),\n",
       " ('DT.INT.DPNG.CD', 79),\n",
       " ('DT.AMT.DPNG.CD', 79),\n",
       " ('DT.INT.PBND.CD', 69),\n",
       " ('DT.AMT.PBND.CD', 69)]"
      ]
     },
     "execution_count": 9,
     "metadata": {},
     "output_type": "execute_result"
    }
   ],
   "source": [
    "%%sql\n",
    "SELECT indicator_code,\n",
    "    COUNT(indicator_code) AS indicator_count\n",
    "    FROM international_debt\n",
    "GROUP BY indicator_code\n",
    "ORDER BY indicator_count DESC,indicator_code DESC\n",
    "LIMIT 20;"
   ]
  },
  {
   "cell_type": "markdown",
   "id": "6bd5f0e2",
   "metadata": {
    "dc": {
     "key": "68"
    },
    "deletable": false,
    "papermill": {
     "duration": 0.007974,
     "end_time": "2023-01-04T01:43:06.239515",
     "exception": false,
     "start_time": "2023-01-04T01:43:06.231541",
     "status": "completed"
    },
    "run_control": {
     "frozen": true
    },
    "tags": [
     "context"
    ]
   },
   "source": [
    "## 9. Other viable debt issues and conclusion\n",
    "<p>There are a total of six debt indicators in which all the countries listed in our dataset have taken debt. The indicator <code>DT.AMT.DLXF.CD</code> is also there in the list. So, this gives us a clue that all these countries are suffering from a common economic issue. But that is not the end of the story, but just a part of the story.</p>\n",
    "<p>Let's change tracks from <code>debt_indicator</code>s now and focus on the amount of debt again. Let's find out the maximum amount of debt that each country has. With this, we will be in a position to identify the other plausible economic issues a country might be going through.</p>\n",
    "<p>In this notebook, we took a look at debt owed by countries across the globe. We extracted a few summary statistics from the data and unraveled some interesting facts and figures. We also validated our findings to make sure the investigations are correct.</p>"
   ]
  },
  {
   "cell_type": "code",
   "execution_count": 10,
   "id": "a42ef996",
   "metadata": {
    "dc": {
     "key": "68"
    },
    "execution": {
     "iopub.execute_input": "2023-01-04T01:43:06.257129Z",
     "iopub.status.busy": "2023-01-04T01:43:06.256745Z",
     "iopub.status.idle": "2023-01-04T01:43:06.269494Z",
     "shell.execute_reply": "2023-01-04T01:43:06.267545Z"
    },
    "papermill": {
     "duration": 0.025446,
     "end_time": "2023-01-04T01:43:06.272890",
     "exception": false,
     "start_time": "2023-01-04T01:43:06.247444",
     "status": "completed"
    },
    "tags": [
     "sample_code"
    ]
   },
   "outputs": [
    {
     "name": "stdout",
     "output_type": "stream",
     "text": [
      " * sqlite:///international_debt.dp\n",
      "Done.\n"
     ]
    },
    {
     "data": {
      "text/html": [
       "<table>\n",
       "    <thead>\n",
       "        <tr>\n",
       "            <th>country_name</th>\n",
       "            <th>maximum_debt</th>\n",
       "        </tr>\n",
       "    </thead>\n",
       "    <tbody>\n",
       "        <tr>\n",
       "            <td>China</td>\n",
       "            <td>96218620835.7</td>\n",
       "        </tr>\n",
       "        <tr>\n",
       "            <td>Brazil</td>\n",
       "            <td>90041840304.1</td>\n",
       "        </tr>\n",
       "        <tr>\n",
       "            <td>Russian Federation</td>\n",
       "            <td>66589761833.5</td>\n",
       "        </tr>\n",
       "        <tr>\n",
       "            <td>Turkey</td>\n",
       "            <td>51555031005.8</td>\n",
       "        </tr>\n",
       "        <tr>\n",
       "            <td>South Asia</td>\n",
       "            <td>48756295898.2</td>\n",
       "        </tr>\n",
       "        <tr>\n",
       "            <td>Least developed countries: UN classification</td>\n",
       "            <td>40160766261.6</td>\n",
       "        </tr>\n",
       "        <tr>\n",
       "            <td>IDA only</td>\n",
       "            <td>34531188113.2</td>\n",
       "        </tr>\n",
       "        <tr>\n",
       "            <td>India</td>\n",
       "            <td>31923507000.8</td>\n",
       "        </tr>\n",
       "        <tr>\n",
       "            <td>Indonesia</td>\n",
       "            <td>30916112653.8</td>\n",
       "        </tr>\n",
       "        <tr>\n",
       "            <td>Kazakhstan</td>\n",
       "            <td>27482093686.4</td>\n",
       "        </tr>\n",
       "    </tbody>\n",
       "</table>"
      ],
      "text/plain": [
       "[('China', 96218620835.7),\n",
       " ('Brazil', 90041840304.1),\n",
       " ('Russian Federation', 66589761833.5),\n",
       " ('Turkey', 51555031005.8),\n",
       " ('South Asia', 48756295898.2),\n",
       " ('Least developed countries: UN classification', 40160766261.6),\n",
       " ('IDA only', 34531188113.2),\n",
       " ('India', 31923507000.8),\n",
       " ('Indonesia', 30916112653.8),\n",
       " ('Kazakhstan', 27482093686.4)]"
      ]
     },
     "execution_count": 10,
     "metadata": {},
     "output_type": "execute_result"
    }
   ],
   "source": [
    "%%sql\n",
    "SELECT country_name, MAX(debt) AS maximum_debt\n",
    "FROM international_debt\n",
    "GROUP BY country_name\n",
    "ORDER BY maximum_debt DESC\n",
    "LIMIT 10;"
   ]
  }
 ],
 "metadata": {
  "kernelspec": {
   "display_name": "Python 3",
   "language": "python",
   "name": "python3"
  },
  "language_info": {
   "codemirror_mode": {
    "name": "ipython",
    "version": 3
   },
   "file_extension": ".py",
   "mimetype": "text/x-python",
   "name": "python",
   "nbconvert_exporter": "python",
   "pygments_lexer": "ipython3",
   "version": "3.7.12"
  },
  "papermill": {
   "default_parameters": {},
   "duration": 9.893859,
   "end_time": "2023-01-04T01:43:07.008666",
   "environment_variables": {},
   "exception": null,
   "input_path": "__notebook__.ipynb",
   "output_path": "__notebook__.ipynb",
   "parameters": {},
   "start_time": "2023-01-04T01:42:57.114807",
   "version": "2.3.4"
  }
 },
 "nbformat": 4,
 "nbformat_minor": 5
}
